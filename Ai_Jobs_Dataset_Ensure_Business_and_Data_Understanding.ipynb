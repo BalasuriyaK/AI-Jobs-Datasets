{
  "nbformat": 4,
  "nbformat_minor": 0,
  "metadata": {
    "colab": {
      "provenance": [],
      "authorship_tag": "ABX9TyNO/iYDB31EAhcjSNOh41WP",
      "include_colab_link": true
    },
    "kernelspec": {
      "name": "python3",
      "display_name": "Python 3"
    },
    "language_info": {
      "name": "python"
    }
  },
  "cells": [
    {
      "cell_type": "markdown",
      "metadata": {
        "id": "view-in-github",
        "colab_type": "text"
      },
      "source": [
        "<a href=\"https://colab.research.google.com/github/BalasuriyaK/AI-Jobs-Datasets/blob/main/Ai_Jobs_Dataset_Ensure_Business_and_Data_Understanding.ipynb\" target=\"_parent\"><img src=\"https://colab.research.google.com/assets/colab-badge.svg\" alt=\"Open In Colab\"/></a>"
      ]
    },
    {
      "cell_type": "code",
      "source": [
        "\n",
        "import csv\n",
        "\n",
        "def readcsvtodict(filepath):\n",
        "    data = []\n",
        "    try:\n",
        "        with open(filepath, 'r') as f:\n",
        "            reader = csv.reader(f)\n",
        "            headers = next(reader)\n",
        "            for row in reader:\n",
        "                employee_data = {}\n",
        "                for i, header in enumerate(headers):\n",
        "                    employee_data[header] = row[i]\n",
        "                data.append(employee_data)\n",
        "    except FileNotFoundError:\n",
        "        print(f\"Error: The file '{filepath}' was not found.\")\n",
        "        return None\n",
        "    except ValueError as e:\n",
        "        print(f\"ValueError in row: {e}\")\n",
        "\n",
        "    return data\n",
        "\n",
        "# --- STEP 2: LOAD THE DATA ---\n",
        "# We will use 'ai_jobs' as the variable name for consistency.\n",
        "ai_jobs = readcsvtodict(filepath='/content/ai_jobdata.pycsv.csv')\n",
        "\n",
        "# --- STEP 3: PERFORM ALL ANALYSIS ---\n",
        "# We'll put all the analysis code here.\n",
        "if not ai_jobs:\n",
        "    print(\"Data loading failed. Please check your file path.\")\n",
        "else:\n",
        "    # 3a. Calculate the average salary\n",
        "    total_salary = 0\n",
        "    valid_salaries = 0\n",
        "    for job in ai_jobs:\n",
        "        try:\n",
        "            total_salary += float(job.get('salary_usd', 0))\n",
        "            valid_salaries += 1\n",
        "        except (ValueError, KeyError):\n",
        "            continue\n",
        "\n",
        "    if valid_salaries > 0:\n",
        "        average_salary = total_salary / valid_salaries\n",
        "        print(f\"The average salary (USD) is: ${average_salary:.2f}\\n\")\n",
        "    else:\n",
        "        print(\"No valid salary data found to calculate the average.\\n\")\n",
        "\n",
        "\n",
        "    # 3b. Find the job with the highest salary\n",
        "    highest_salary = 0\n",
        "    highest_paid_job = None\n",
        "    for job in ai_jobs:\n",
        "        try:\n",
        "            current_salary = float(job.get('salary_usd', 0))\n",
        "            if current_salary > highest_salary:\n",
        "                highest_salary = current_salary\n",
        "                highest_paid_job = job\n",
        "        except (ValueError, KeyError):\n",
        "            continue\n",
        "\n",
        "    if highest_paid_job:\n",
        "        print(\"The job with the highest salary is:\")\n",
        "        print(f\"Job Title: {highest_paid_job.get('job_title', 'N/A')}\")\n",
        "        print(f\"Salary (USD): ${highest_paid_job.get('salary_usd', 'N/A')}\")\n",
        "        print(f\"Location: {highest_paid_job.get('location', 'N/A')}\")\n",
        "    else:\n",
        "        print(\"Could not find the highest paid job. The dataset might be empty or have no valid salary data.\")\n",
        "\n",
        "    # 3c. Count jobs per location\n",
        "    location_counts = {}\n",
        "    for job in ai_jobs:\n",
        "        location = job.get('location', 'Unknown')\n",
        "        location_counts[location] = location_counts.get(location, 0) + 1\n",
        "\n",
        "    print(\"\\nJob counts by location:\")\n",
        "    for location, count in sorted(location_counts.items(), key=lambda item: item[1], reverse=True):\n",
        "        print(f\"- {location}: {count}\")"
      ],
      "metadata": {
        "colab": {
          "base_uri": "https://localhost:8080/"
        },
        "id": "TztYWKn2q8_Z",
        "outputId": "42804485-5d7b-4f41-d20c-7338ed723219"
      },
      "execution_count": null,
      "outputs": [
        {
          "output_type": "stream",
          "name": "stdout",
          "text": [
            "The average salary (USD) is: $115348.97\n",
            "\n",
            "The job with the highest salary is:\n",
            "Job Title: Machine Learning Researcher\n",
            "Salary (USD): $399095\n",
            "Location: N/A\n",
            "\n",
            "Job counts by location:\n",
            "- Unknown: 15000\n"
          ]
        }
      ]
    }
  ]
}